{
  "nbformat": 4,
  "nbformat_minor": 0,
  "metadata": {
    "colab": {
      "provenance": [],
      "authorship_tag": "ABX9TyMNQ1xBPTMvbs33Suana/Mw",
      "include_colab_link": true
    },
    "kernelspec": {
      "name": "python3",
      "display_name": "Python 3"
    },
    "language_info": {
      "name": "python"
    }
  },
  "cells": [
    {
      "cell_type": "markdown",
      "metadata": {
        "id": "view-in-github",
        "colab_type": "text"
      },
      "source": [
        "<a href=\"https://colab.research.google.com/github/Valerie0518/LQY/blob/main/Tesco-Trustpilot.ipynb\" target=\"_parent\"><img src=\"https://colab.research.google.com/assets/colab-badge.svg\" alt=\"Open In Colab\"/></a>"
      ]
    },
    {
      "cell_type": "code",
      "source": [
        "!pip install requests beautifulsoup4\n",
        "import re\n",
        "import requests\n",
        "from bs4 import BeautifulSoup\n",
        "from collections import Counter\n",
        "import matplotlib.pyplot as plt"
      ],
      "metadata": {
        "colab": {
          "base_uri": "https://localhost:8080/"
        },
        "id": "1T-uPMufNoU_",
        "outputId": "6378435d-435e-4b36-8025-0446ef131db9"
      },
      "execution_count": 1,
      "outputs": [
        {
          "output_type": "stream",
          "name": "stdout",
          "text": [
            "Requirement already satisfied: requests in /usr/local/lib/python3.11/dist-packages (2.32.3)\n",
            "Requirement already satisfied: beautifulsoup4 in /usr/local/lib/python3.11/dist-packages (4.12.3)\n",
            "Requirement already satisfied: charset-normalizer<4,>=2 in /usr/local/lib/python3.11/dist-packages (from requests) (3.4.1)\n",
            "Requirement already satisfied: idna<4,>=2.5 in /usr/local/lib/python3.11/dist-packages (from requests) (3.10)\n",
            "Requirement already satisfied: urllib3<3,>=1.21.1 in /usr/local/lib/python3.11/dist-packages (from requests) (2.3.0)\n",
            "Requirement already satisfied: certifi>=2017.4.17 in /usr/local/lib/python3.11/dist-packages (from requests) (2024.12.14)\n",
            "Requirement already satisfied: soupsieve>1.2 in /usr/local/lib/python3.11/dist-packages (from beautifulsoup4) (2.6)\n"
          ]
        }
      ]
    },
    {
      "cell_type": "code",
      "source": [
        "def scrape_page(url):\n",
        "    \"\"\"抓取单个页面并返回文本内容.\"\"\"\n",
        "    response = requests.get(url)\n",
        "    soup = BeautifulSoup(response.content, \"html.parser\")\n",
        "    return soup.get_text(strip=True)\n",
        "\n",
        "def scrape_all_pages(base_url, max_pages=10):\n",
        "    \"\"\"抓取所有页面并返回所有文本内容.\"\"\"\n",
        "    all_text = \"\"\n",
        "    for page_num in range(1, max_pages + 1):\n",
        "        url = f\"{base_url}?page={page_num}\"  # 构建分页 URL\n",
        "        page_text = scrape_page(url)\n",
        "\n",
        "        # 检查页面是否为空或重复，如果是则停止抓取\n",
        "        if not page_text or page_text in all_text:\n",
        "            break\n",
        "\n",
        "        all_text += page_text\n",
        "        print(f\"已抓取页面 {page_num}\")  # 可选：打印进度\n",
        "\n",
        "    return all_text\n",
        "\n",
        "# 设置基本 URL 和最大页数\n",
        "base_url = \"https://www.trustpilot.com/review/www.tesco.com\"\n",
        "max_pages = 100\n",
        "\n",
        "# 抓取所有页面\n",
        "all_text = scrape_all_pages(base_url, max_pages)\n",
        "\n",
        "# 可选：将文本保存到文件\n",
        "with open(\"all_text_from_all_pages.txt\", \"w\", encoding=\"utf-8\") as f:\n",
        "    f.write(all_text)"
      ],
      "metadata": {
        "colab": {
          "base_uri": "https://localhost:8080/"
        },
        "id": "OOfw1rRQNpDR",
        "outputId": "e03c9555-880f-42f4-8ff3-88da3f54c822",
        "collapsed": true
      },
      "execution_count": 13,
      "outputs": [
        {
          "output_type": "stream",
          "name": "stdout",
          "text": [
            "已抓取页面 1\n",
            "已抓取页面 2\n",
            "已抓取页面 3\n",
            "已抓取页面 4\n",
            "已抓取页面 5\n",
            "已抓取页面 6\n",
            "已抓取页面 7\n",
            "已抓取页面 8\n",
            "已抓取页面 9\n",
            "已抓取页面 10\n",
            "已抓取页面 11\n",
            "已抓取页面 12\n",
            "已抓取页面 13\n",
            "已抓取页面 14\n",
            "已抓取页面 15\n",
            "已抓取页面 16\n",
            "已抓取页面 17\n",
            "已抓取页面 18\n",
            "已抓取页面 19\n",
            "已抓取页面 20\n",
            "已抓取页面 21\n",
            "已抓取页面 22\n",
            "已抓取页面 23\n",
            "已抓取页面 24\n",
            "已抓取页面 25\n",
            "已抓取页面 26\n",
            "已抓取页面 27\n",
            "已抓取页面 28\n",
            "已抓取页面 29\n",
            "已抓取页面 30\n",
            "已抓取页面 31\n",
            "已抓取页面 32\n",
            "已抓取页面 33\n",
            "已抓取页面 34\n",
            "已抓取页面 35\n",
            "已抓取页面 36\n",
            "已抓取页面 37\n",
            "已抓取页面 38\n",
            "已抓取页面 39\n",
            "已抓取页面 40\n",
            "已抓取页面 41\n",
            "已抓取页面 42\n",
            "已抓取页面 43\n",
            "已抓取页面 44\n",
            "已抓取页面 45\n",
            "已抓取页面 46\n",
            "已抓取页面 47\n",
            "已抓取页面 48\n",
            "已抓取页面 49\n",
            "已抓取页面 50\n",
            "已抓取页面 51\n",
            "已抓取页面 52\n",
            "已抓取页面 53\n",
            "已抓取页面 54\n",
            "已抓取页面 55\n",
            "已抓取页面 56\n",
            "已抓取页面 57\n",
            "已抓取页面 58\n",
            "已抓取页面 59\n",
            "已抓取页面 60\n",
            "已抓取页面 61\n",
            "已抓取页面 62\n",
            "已抓取页面 63\n",
            "已抓取页面 64\n",
            "已抓取页面 65\n",
            "已抓取页面 66\n",
            "已抓取页面 67\n",
            "已抓取页面 68\n",
            "已抓取页面 69\n",
            "已抓取页面 70\n",
            "已抓取页面 71\n",
            "已抓取页面 72\n",
            "已抓取页面 73\n",
            "已抓取页面 74\n",
            "已抓取页面 75\n",
            "已抓取页面 76\n",
            "已抓取页面 77\n",
            "已抓取页面 78\n",
            "已抓取页面 79\n",
            "已抓取页面 80\n",
            "已抓取页面 81\n",
            "已抓取页面 82\n",
            "已抓取页面 83\n",
            "已抓取页面 84\n",
            "已抓取页面 85\n",
            "已抓取页面 86\n",
            "已抓取页面 87\n",
            "已抓取页面 88\n",
            "已抓取页面 89\n",
            "已抓取页面 90\n",
            "已抓取页面 91\n",
            "已抓取页面 92\n",
            "已抓取页面 93\n",
            "已抓取页面 94\n",
            "已抓取页面 95\n",
            "已抓取页面 96\n",
            "已抓取页面 97\n",
            "已抓取页面 98\n",
            "已抓取页面 99\n",
            "已抓取页面 100\n"
          ]
        }
      ]
    },
    {
      "cell_type": "code",
      "source": [
        "keywords = [\"delivery\", \"customer service\", \"quality\", \"mislead\", \"refund\"]\n",
        "frequencies = []\n",
        "chart = {}\n",
        "for keyword in keywords:\n",
        "    frequency = all_text.lower().count(keyword.lower())\n",
        "    frequencies.append(frequency)\n",
        "    chart[keyword] = frequency\n"
      ],
      "metadata": {
        "id": "-kyOPVjPQ-yE"
      },
      "execution_count": 16,
      "outputs": []
    },
    {
      "cell_type": "code",
      "source": [
        "keyword = list(chart.keys())\n",
        "frequencies = list(chart.values())\n",
        "\n",
        "# 创建条形图\n",
        "plt.figure(figsize=(10, 6))  # 设置图形大小\n",
        "plt.bar(keyword, frequencies)\n",
        "\n",
        "# 在每个条形图上添加总数\n",
        "for i, v in enumerate(frequencies):\n",
        "    plt.text(i, v, str(v), ha='center', va='bottom')\n",
        "\n",
        "# 设置图表标题和标签\n",
        "plt.title(\"Keyword Frequency\")\n",
        "plt.xlabel(\"Keywords\")\n",
        "plt.ylabel(\"Frequency\")\n",
        "\n",
        "# 旋转 x 轴标签以避免重叠\n",
        "plt.xticks(rotation=45, ha='right')\n",
        "\n",
        "# 显示图表\n",
        "plt.show()"
      ],
      "metadata": {
        "colab": {
          "base_uri": "https://localhost:8080/",
          "height": 644
        },
        "id": "f5VlLeaURxY2",
        "outputId": "24ee6a08-6de3-432d-b93f-eb324d647322"
      },
      "execution_count": 17,
      "outputs": [
        {
          "output_type": "display_data",
          "data": {
            "text/plain": [
              "<Figure size 1000x600 with 1 Axes>"
            ],
            "image/png": "[encoded data removed]"
          },
          "metadata": {}
        }
      ]
    }
  ]
}